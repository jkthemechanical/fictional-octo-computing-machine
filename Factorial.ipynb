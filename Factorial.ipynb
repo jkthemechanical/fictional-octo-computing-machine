{
  "nbformat": 4,
  "nbformat_minor": 0,
  "metadata": {
    "colab": {
      "name": "Untitled0.ipynb",
      "provenance": [],
      "authorship_tag": "ABX9TyM+ABWiC63u9JOIVvp7LHTs",
      "include_colab_link": true
    },
    "kernelspec": {
      "name": "python3",
      "display_name": "Python 3"
    }
  },
  "cells": [
    {
      "cell_type": "markdown",
      "metadata": {
        "id": "view-in-github",
        "colab_type": "text"
      },
      "source": [
        "<a href=\"https://colab.research.google.com/github/jkthemechanical/fictional-octo-computing-machine/blob/master/Factorial.ipynb\" target=\"_parent\"><img src=\"https://colab.research.google.com/assets/colab-badge.svg\" alt=\"Open In Colab\"/></a>"
      ]
    },
    {
      "cell_type": "code",
      "metadata": {
        "colab": {
          "base_uri": "https://localhost:8080/"
        },
        "id": "F2I1OdOOs9oW",
        "outputId": "60675cd0-16a7-40d5-9c87-289e29907f18"
      },
      "source": [
        "# To get factorial of given number\r\n",
        "\r\n",
        "userInput = input(\"Enter a posititve non zero number: \")\r\n",
        "number = int(userInput)\r\n",
        "\r\n",
        "if number <= 0:\r\n",
        "  print(\"Invalid number please re-enter\")\r\n",
        "  userInput = input(\"Enter a posititve non zero number: \")\r\n",
        "  number = int(userInput)\r\n",
        "else:\r\n",
        "  print(\"Thank you, let me share result with you\")\r\n",
        "\r\n",
        "fact = 1\r\n",
        "if (number > 1):\r\n",
        "  while (number > 1):\r\n",
        "    fact *= number\r\n",
        "    number -= 1\r\n",
        "  print (\"Factorial of {1} is {0}\".format(fact, userInput))\r\n"
      ],
      "execution_count": 13,
      "outputs": [
        {
          "output_type": "stream",
          "text": [
            "Enter a posititve non zero number: -6\n",
            "Invalid number please re-enter\n",
            "Enter a posititve non zero number: 6\n",
            "Factorial of 6 is 720\n"
          ],
          "name": "stdout"
        }
      ]
    }
  ]
}