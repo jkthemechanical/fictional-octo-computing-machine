{
  "nbformat": 4,
  "nbformat_minor": 0,
  "metadata": {
    "colab": {
      "name": "DivisorList.ipynb",
      "provenance": [],
      "authorship_tag": "ABX9TyPLDtNUMjZr2/RBuQ1b9+D8",
      "include_colab_link": true
    },
    "kernelspec": {
      "name": "python3",
      "display_name": "Python 3"
    }
  },
  "cells": [
    {
      "cell_type": "markdown",
      "metadata": {
        "id": "view-in-github",
        "colab_type": "text"
      },
      "source": [
        "<a href=\"https://colab.research.google.com/github/jkthemechanical/fictional-octo-computing-machine/blob/master/DivisorList.ipynb\" target=\"_parent\"><img src=\"https://colab.research.google.com/assets/colab-badge.svg\" alt=\"Open In Colab\"/></a>"
      ]
    },
    {
      "cell_type": "code",
      "metadata": {
        "colab": {
          "base_uri": "https://localhost:8080/"
        },
        "id": "IKpuSEYMpReT",
        "outputId": "b93341bd-fb89-49e2-eaa4-111ac4c9a6e5"
      },
      "source": [
        "#list of divisors of the given number\r\n",
        "\r\n",
        "inputnumber = input('Please enter a positive number: ')\r\n",
        "number = int(inputnumber)\r\n",
        "listofDivisors =[1]\r\n",
        "\r\n",
        "for num in range(2,number+1,1):\r\n",
        "    if ((number%num) == 0):\r\n",
        "        listofDivisors.append(num)\r\n",
        "    num += 1\r\n",
        "print(listofDivisors)"
      ],
      "execution_count": 1,
      "outputs": [
        {
          "output_type": "stream",
          "text": [
            "Please enter a positive number: 55\n",
            "[1, 5, 11, 55]\n"
          ],
          "name": "stdout"
        }
      ]
    }
  ]
}